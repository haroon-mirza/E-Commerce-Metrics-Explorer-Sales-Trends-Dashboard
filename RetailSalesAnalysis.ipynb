{
  "cells": [
    {
      "cell_type": "code",
      "execution_count": null,
      "id": "d131b954-7416-49a4-9535-086e580c30d0",
      "metadata": {
        "ExecuteTime": {
          "end_time": "2023-08-22T02:14:25.043196+00:00",
          "start_time": "2023-08-22T02:14:22.802627+00:00"
        },
        "datalink": {
          "c6e922e6-63d7-4a6c-870e-fbe7b51a3dfa": {
            "applied_filters": [],
            "dataframe_info": {
              "default_index_used": true,
              "orig_num_cols": 8,
              "orig_num_rows": 5,
              "orig_size_bytes": 360,
              "truncated_num_cols": 8,
              "truncated_num_rows": 5,
              "truncated_size_bytes": 360,
              "truncated_string_columns": []
            },
            "display_id": "c6e922e6-63d7-4a6c-870e-fbe7b51a3dfa",
            "dx_settings": {
              "ALLOW_NOTEABLE_ATTRS": true,
              "COLUMN_SAMPLING_METHOD": "outer",
              "DB_LOCATION": ":memory:",
              "DEV_MODE": false,
              "DISPLAY_MAX_COLUMNS": 100,
              "DISPLAY_MAX_ROWS": 50000,
              "DISPLAY_MODE": "simple",
              "ENABLE_ASSIGNMENT": true,
              "ENABLE_DATALINK": true,
              "FLATTEN_COLUMN_VALUES": true,
              "FLATTEN_INDEX_VALUES": false,
              "GENERATE_DEX_METADATA": false,
              "HTML_TABLE_SCHEMA": false,
              "LOG_LEVEL": 30,
              "MAX_RENDER_SIZE_BYTES": 104857600,
              "MAX_STRING_LENGTH": 250,
              "NUM_PAST_SAMPLES_TRACKED": 3,
              "RANDOM_STATE": 12648430,
              "RESET_INDEX_VALUES": false,
              "ROW_SAMPLING_METHOD": "random",
              "SAMPLING_FACTOR": 0.1,
              "SAMPLING_METHOD": "random",
              "STRINGIFY_COLUMN_VALUES": true,
              "STRINGIFY_INDEX_VALUES": false
            },
            "sample_history": [],
            "sampling_time": "2023-08-22T02:14:24.864814",
            "user_variable_name": null,
            "variable_name": "unk_dataframe_b4acedaa3de648c2a9b6790d148f734e"
          }
        },
        "noteable": {
          "cell_type": "code",
          "output_collection_id": "4473df14-69d3-4ed6-a380-415b731dccd4"
        }
      },
      "outputs": [],
      "source": [
        "import pandas as pd\n",
        "import numpy as np\n",
        "import matplotlib.pyplot as plt\n",
        "import seaborn as sns\n",
        "\n",
        "# Load the dataset\n",
        "data = pd.read_csv('data.csv', encoding='ISO-8859-1')\n",
        "data.head()"
      ]
    },
    {
      "cell_type": "code",
      "execution_count": null,
      "id": "aa8a9236-0fdd-47f4-b6e1-20e0165e8d85",
      "metadata": {
        "noteable": {
          "cell_type": "code"
        }
      },
      "outputs": [],
      "source": [
        "import pandas as pd\n",
        "import numpy as np\n",
        "import matplotlib.pyplot as plt\n",
        "import seaborn as sns\n",
        "\n",
        "# Load the dataset\n",
        "data = pd.read_csv('data.csv', encoding='ISO-8859-1')\n",
        "data.head()"
      ]
    },
    {
      "cell_type": "code",
      "execution_count": null,
      "id": "9b1bb415-11b6-4dba-8632-4aed32bd8bfd",
      "metadata": {
        "noteable": {
          "cell_type": "code"
        }
      },
      "outputs": [],
      "source": [
        "# Data Cleaning and Preprocessing\n",
        "\n",
        "# Removing cancelled orders\n",
        "data = data[data['Quantity'] > 0]\n",
        "\n",
        "# Removing rows where customerID is NA\n",
        "data.dropna(subset=['CustomerID'], inplace=True)\n",
        "\n",
        "# Adding a new column for total price\n",
        "data['TotalPrice'] = data['Quantity'] * data['UnitPrice']\n",
        "\n",
        "# Convert the InvoiceDate from object type to datetime type\n",
        "data['InvoiceDate'] = pd.to_datetime(data['InvoiceDate'])\n",
        "data.head()"
      ]
    },
    {
      "cell_type": "code",
      "execution_count": null,
      "id": "26449227-d897-41d0-84c2-8ca9c9512bf2",
      "metadata": {
        "noteable": {
          "cell_type": "code"
        }
      },
      "outputs": [],
      "source": [
        "# Top Products Analysis\n",
        "\n",
        "# Grouping by StockCode and Description to get the total quantity of each product sold\n",
        "top_products = data.groupby(['StockCode', 'Description'])['Quantity'].sum().reset_index()\n",
        "\n",
        "# Sorting the products by quantity in descending order to get the top selling products\n",
        "top_products = top_products.sort_values(by='Quantity', ascending=False).head(10)\n",
        "\n",
        "# Plotting the top selling products\n",
        "plt.figure(figsize=(15, 10))\n",
        "sns.barplot(data=top_products, y='Description', x='Quantity', palette='viridis')\n",
        "plt.title('Top 10 Selling Products')\n",
        "plt.xlabel('Total Quantity Sold')\n",
        "plt.ylabel('Product Description')\n",
        "plt.show()"
      ]
    },
    {
      "cell_type": "code",
      "execution_count": null,
      "id": "91b09054-a483-4097-bdf5-0206eed33dd0",
      "metadata": {
        "noteable": {
          "cell_type": "code"
        }
      },
      "outputs": [],
      "source": [
        "# Monthly Sales Trend Analysis\n",
        "\n",
        "# Extracting month and year from InvoiceDate\n",
        "data['InvoiceMonth'] = data['InvoiceDate'].dt.to_period('M')\n",
        "\n",
        "# Grouping by InvoiceMonth to get the total sales for each month\n",
        "monthly_sales = data.groupby('InvoiceMonth')['TotalPrice'].sum().reset_index()\n",
        "\n",
        "# Plotting the monthly sales trend\n",
        "plt.figure(figsize=(15, 10))\n",
        "sns.lineplot(data=monthly_sales, x='InvoiceMonth', y='TotalPrice', marker='o', color='teal')\n",
        "plt.title('Monthly Sales Trend')\n",
        "plt.xlabel('Month')\n",
        "plt.ylabel('Total Sales')\n",
        "plt.grid(True, which='both', linestyle='--', linewidth=0.5)\n",
        "plt.show()"
      ]
    },
    {
      "cell_type": "code",
      "execution_count": null,
      "id": "25ca85a6-01af-4b64-a973-c293694bcdd0",
      "metadata": {
        "noteable": {
          "cell_type": "code"
        }
      },
      "outputs": [],
      "source": [
        "# Sales Distribution by Country Analysis\n",
        "\n",
        "# Grouping by Country to get the total sales for each country\n",
        "sales_by_country = data.groupby('Country')['TotalPrice'].sum().reset_index()\n",
        "\n",
        "# Sorting the countries by sales in descending order\n",
        "sales_by_country = sales_by_country.sort_values(by='TotalPrice', ascending=False)\n",
        "\n",
        "# Plotting the sales distribution by country\n",
        "plt.figure(figsize=(15, 10))\n",
        "sns.barplot(data=sales_by_country, y='Country', x='TotalPrice', palette='viridis')\n",
        "plt.title('Sales Distribution by Country')\n",
        "plt.xlabel('Total Sales')\n",
        "plt.ylabel('Country')\n",
        "plt.show()"
      ]
    },
    {
      "cell_type": "code",
      "execution_count": null,
      "id": "d9742d27-b0be-45b8-bc23-c63fe5454bcb",
      "metadata": {
        "noteable": {
          "cell_type": "code"
        }
      },
      "outputs": [],
      "source": [
        "# Sales Distribution by Hour Analysis\n",
        "\n",
        "# Extracting hour from InvoiceDate\n",
        "data['Hour'] = data['InvoiceDate'].dt.hour\n",
        "\n",
        "# Grouping by Hour to get the total sales for each hour\n",
        "sales_by_hour = data.groupby('Hour')['TotalPrice'].sum().reset_index()\n",
        "\n",
        "# Plotting the sales distribution by hour\n",
        "plt.figure(figsize=(15, 10))\n",
        "sns.barplot(data=sales_by_hour, x='Hour', y='TotalPrice', palette='viridis')\n",
        "plt.title('Sales Distribution by Hour')\n",
        "plt.xlabel('Hour')\n",
        "plt.ylabel('Total Sales')\n",
        "plt.show()"
      ]
    },
    {
      "cell_type": "code",
      "execution_count": null,
      "id": "e3eef5c4-3af9-4292-bc10-85b25d66184c",
      "metadata": {
        "noteable": {
          "cell_type": "code"
        }
      },
      "outputs": [],
      "source": [
        "# Sales Distribution by Day of the Week Analysis\n",
        "\n",
        "# Extracting day of the week from InvoiceDate\n",
        "data['DayOfWeek'] = data['InvoiceDate'].dt.dayofweek\n",
        "\n",
        "# Mapping the day of the week to its name\n",
        "days = {0:'Mon', 1:'Tue', 2:'Wed', 3:'Thu', 4:'Fri', 5:'Sat', 6:'Sun'}\n",
        "data['DayOfWeek'] = data['DayOfWeek'].map(days)\n",
        "\n",
        "# Grouping by DayOfWeek to get the total sales for each day of the week\n",
        "sales_by_day = data.groupby('DayOfWeek')['TotalPrice'].sum().reindex(['Mon', 'Tue', 'Wed', 'Thu', 'Fri', 'Sat', 'Sun']).reset_index()\n",
        "\n",
        "# Plotting the sales distribution by day of the week\n",
        "plt.figure(figsize=(15, 10))\n",
        "sns.barplot(data=sales_by_day, x='DayOfWeek', y='TotalPrice', palette='viridis')\n",
        "plt.title('Sales Distribution by Day of the Week')\n",
        "plt.xlabel('Day of the Week')\n",
        "plt.ylabel('Total Sales')\n",
        "plt.show()"
      ]
    }
  ],
  "metadata": {
    "kernel_info": {
      "name": "python3"
    },
    "kernelspec": {
      "display_name": "Python 3.9",
      "language": "python",
      "name": "python3"
    },
    "noteable": {
      "last_transaction_id": "5b82d12d-14d8-4f31-b537-325c91186d11"
    },
    "noteable-chatgpt": {
      "create_notebook": {
        "openai_conversation_id": "46cdd3c6-9005-5131-b71d-9982f6e4ebc2",
        "openai_ephemeral_user_id": "33178799-fcf0-5979-b623-a8672a063968",
        "openai_subdivision1_iso_code": "US-MA"
      }
    },
    "selected_hardware_size": "small"
  },
  "nbformat": 4,
  "nbformat_minor": 5
}
