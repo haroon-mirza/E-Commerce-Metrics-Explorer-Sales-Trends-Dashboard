{
  "nbformat": 4,
  "nbformat_minor": 5,
  "metadata": {
    "noteable-chatgpt": {
      "create_notebook": {
        "openai_conversation_id": "46cdd3c6-9005-5131-b71d-9982f6e4ebc2",
        "openai_ephemeral_user_id": "33178799-fcf0-5979-b623-a8672a063968",
        "openai_subdivision1_iso_code": "US-MA"
      }
    },
    "kernel_info": {
      "name": "python3"
    },
    "noteable": {
      "last_transaction_id": "5b82d12d-14d8-4f31-b537-325c91186d11"
    },
    "kernelspec": {
      "display_name": "Python 3.9",
      "language": "python",
      "name": "python3"
    },
    "selected_hardware_size": "small"
  },
  "cells": [
    {
      "id": "d131b954-7416-49a4-9535-086e580c30d0",
      "cell_type": "code",
      "metadata": {
        "noteable": {
          "cell_type": "code",
          "output_collection_id": "4473df14-69d3-4ed6-a380-415b731dccd4"
        },
        "ExecuteTime": {
          "end_time": "2023-08-22T02:14:25.043196+00:00",
          "start_time": "2023-08-22T02:14:22.802627+00:00"
        },
        "datalink": {
          "c6e922e6-63d7-4a6c-870e-fbe7b51a3dfa": {
            "applied_filters": [],
            "dataframe_info": {
              "default_index_used": true,
              "orig_num_cols": 8,
              "orig_num_rows": 5,
              "orig_size_bytes": 360,
              "truncated_num_cols": 8,
              "truncated_num_rows": 5,
              "truncated_size_bytes": 360,
              "truncated_string_columns": []
            },
            "display_id": "c6e922e6-63d7-4a6c-870e-fbe7b51a3dfa",
            "dx_settings": {
              "ALLOW_NOTEABLE_ATTRS": true,
              "COLUMN_SAMPLING_METHOD": "outer",
              "DB_LOCATION": ":memory:",
              "DEV_MODE": false,
              "DISPLAY_MAX_COLUMNS": 100,
              "DISPLAY_MAX_ROWS": 50000,
              "DISPLAY_MODE": "simple",
              "ENABLE_ASSIGNMENT": true,
              "ENABLE_DATALINK": true,
              "FLATTEN_COLUMN_VALUES": true,
              "FLATTEN_INDEX_VALUES": false,
              "GENERATE_DEX_METADATA": false,
              "HTML_TABLE_SCHEMA": false,
              "LOG_LEVEL": 30,
              "MAX_RENDER_SIZE_BYTES": 104857600,
              "MAX_STRING_LENGTH": 250,
              "NUM_PAST_SAMPLES_TRACKED": 3,
              "RANDOM_STATE": 12648430,
              "RESET_INDEX_VALUES": false,
              "ROW_SAMPLING_METHOD": "random",
              "SAMPLING_FACTOR": 0.1,
              "SAMPLING_METHOD": "random",
              "STRINGIFY_COLUMN_VALUES": true,
              "STRINGIFY_INDEX_VALUES": false
            },
            "sample_history": [],
            "sampling_time": "2023-08-22T02:14:24.864814",
            "user_variable_name": null,
            "variable_name": "unk_dataframe_b4acedaa3de648c2a9b6790d148f734e"
          }
        }
      },
      "execution_count": null,
      "source": "import pandas as pd\nimport numpy as np\nimport matplotlib.pyplot as plt\nimport seaborn as sns\n\n# Load the dataset\ndata = pd.read_csv('data.csv', encoding='ISO-8859-1')\ndata.head()",
      "outputs": []
    },
    {
      "id": "aa8a9236-0fdd-47f4-b6e1-20e0165e8d85",
      "cell_type": "code",
      "metadata": {
        "noteable": {
          "cell_type": "code"
        }
      },
      "execution_count": null,
      "source": "import pandas as pd\nimport numpy as np\nimport matplotlib.pyplot as plt\nimport seaborn as sns\n\n# Load the dataset\ndata = pd.read_csv('data.csv', encoding='ISO-8859-1')\ndata.head()",
      "outputs": []
    },
    {
      "id": "9b1bb415-11b6-4dba-8632-4aed32bd8bfd",
      "cell_type": "code",
      "metadata": {
        "noteable": {
          "cell_type": "code"
        }
      },
      "execution_count": null,
      "source": "# Data Cleaning and Preprocessing\n\n# Removing cancelled orders\ndata = data[data['Quantity'] > 0]\n\n# Removing rows where customerID is NA\ndata.dropna(subset=['CustomerID'], inplace=True)\n\n# Adding a new column for total price\ndata['TotalPrice'] = data['Quantity'] * data['UnitPrice']\n\n# Convert the InvoiceDate from object type to datetime type\ndata['InvoiceDate'] = pd.to_datetime(data['InvoiceDate'])\ndata.head()",
      "outputs": []
    },
    {
      "id": "26449227-d897-41d0-84c2-8ca9c9512bf2",
      "cell_type": "code",
      "metadata": {
        "noteable": {
          "cell_type": "code"
        }
      },
      "execution_count": null,
      "source": "# Top Products Analysis\n\n# Grouping by StockCode and Description to get the total quantity of each product sold\ntop_products = data.groupby(['StockCode', 'Description'])['Quantity'].sum().reset_index()\n\n# Sorting the products by quantity in descending order to get the top selling products\ntop_products = top_products.sort_values(by='Quantity', ascending=False).head(10)\n\n# Plotting the top selling products\nplt.figure(figsize=(15, 10))\nsns.barplot(data=top_products, y='Description', x='Quantity', palette='viridis')\nplt.title('Top 10 Selling Products')\nplt.xlabel('Total Quantity Sold')\nplt.ylabel('Product Description')\nplt.show()",
      "outputs": []
    },
    {
      "id": "91b09054-a483-4097-bdf5-0206eed33dd0",
      "cell_type": "code",
      "metadata": {
        "noteable": {
          "cell_type": "code"
        }
      },
      "execution_count": null,
      "source": "# Monthly Sales Trend Analysis\n\n# Extracting month and year from InvoiceDate\ndata['InvoiceMonth'] = data['InvoiceDate'].dt.to_period('M')\n\n# Grouping by InvoiceMonth to get the total sales for each month\nmonthly_sales = data.groupby('InvoiceMonth')['TotalPrice'].sum().reset_index()\n\n# Plotting the monthly sales trend\nplt.figure(figsize=(15, 10))\nsns.lineplot(data=monthly_sales, x='InvoiceMonth', y='TotalPrice', marker='o', color='teal')\nplt.title('Monthly Sales Trend')\nplt.xlabel('Month')\nplt.ylabel('Total Sales')\nplt.grid(True, which='both', linestyle='--', linewidth=0.5)\nplt.show()",
      "outputs": []
    },
    {
      "id": "25ca85a6-01af-4b64-a973-c293694bcdd0",
      "cell_type": "code",
      "metadata": {
        "noteable": {
          "cell_type": "code"
        }
      },
      "execution_count": null,
      "source": "# Sales Distribution by Country Analysis\n\n# Grouping by Country to get the total sales for each country\nsales_by_country = data.groupby('Country')['TotalPrice'].sum().reset_index()\n\n# Sorting the countries by sales in descending order\nsales_by_country = sales_by_country.sort_values(by='TotalPrice', ascending=False)\n\n# Plotting the sales distribution by country\nplt.figure(figsize=(15, 10))\nsns.barplot(data=sales_by_country, y='Country', x='TotalPrice', palette='viridis')\nplt.title('Sales Distribution by Country')\nplt.xlabel('Total Sales')\nplt.ylabel('Country')\nplt.show()",
      "outputs": []
    },
    {
      "id": "d9742d27-b0be-45b8-bc23-c63fe5454bcb",
      "cell_type": "code",
      "metadata": {
        "noteable": {
          "cell_type": "code"
        }
      },
      "execution_count": null,
      "source": "# Sales Distribution by Hour Analysis\n\n# Extracting hour from InvoiceDate\ndata['Hour'] = data['InvoiceDate'].dt.hour\n\n# Grouping by Hour to get the total sales for each hour\nsales_by_hour = data.groupby('Hour')['TotalPrice'].sum().reset_index()\n\n# Plotting the sales distribution by hour\nplt.figure(figsize=(15, 10))\nsns.barplot(data=sales_by_hour, x='Hour', y='TotalPrice', palette='viridis')\nplt.title('Sales Distribution by Hour')\nplt.xlabel('Hour')\nplt.ylabel('Total Sales')\nplt.show()",
      "outputs": []
    },
    {
      "id": "e3eef5c4-3af9-4292-bc10-85b25d66184c",
      "cell_type": "code",
      "metadata": {
        "noteable": {
          "cell_type": "code"
        }
      },
      "execution_count": null,
      "source": "# Sales Distribution by Day of the Week Analysis\n\n# Extracting day of the week from InvoiceDate\ndata['DayOfWeek'] = data['InvoiceDate'].dt.dayofweek\n\n# Mapping the day of the week to its name\ndays = {0:'Mon', 1:'Tue', 2:'Wed', 3:'Thu', 4:'Fri', 5:'Sat', 6:'Sun'}\ndata['DayOfWeek'] = data['DayOfWeek'].map(days)\n\n# Grouping by DayOfWeek to get the total sales for each day of the week\nsales_by_day = data.groupby('DayOfWeek')['TotalPrice'].sum().reindex(['Mon', 'Tue', 'Wed', 'Thu', 'Fri', 'Sat', 'Sun']).reset_index()\n\n# Plotting the sales distribution by day of the week\nplt.figure(figsize=(15, 10))\nsns.barplot(data=sales_by_day, x='DayOfWeek', y='TotalPrice', palette='viridis')\nplt.title('Sales Distribution by Day of the Week')\nplt.xlabel('Day of the Week')\nplt.ylabel('Total Sales')\nplt.show()",
      "outputs": []
    },
    {
      "id": "c8b9d5e9-49f8-4b83-ad8c-bd2429f2a26f",
      "cell_type": "code",
      "metadata": {
        "noteable": {
          "cell_type": "code"
        }
      },
      "execution_count": null,
      "source": "# Customer Lifetime Value (CLV) Analysis\n\n# Calculate the recency, frequency, and monetary value for each customer\nsnapshot_date = data['InvoiceDate'].max() + pd.Timedelta(days=1)\ndatamart = data.groupby('CustomerID').agg({\n    'InvoiceDate': lambda x: (snapshot_date - x.max()).days,\n    'InvoiceNo': 'count',\n    'TotalPrice': 'sum'})\n\n# Rename the columns\ndatamart.rename(columns = {'InvoiceDate': 'Recency',\n                          'InvoiceNo': 'Frequency',\n                          'TotalPrice': 'MonetaryValue'}, inplace=True)\n\n# Calculate the average order value\ndatamart['AverageOrderValue'] = datamart['MonetaryValue'] / datamart['Frequency']\n\n# Calculate the purchase frequency\npurchase_frequency = datamart['Frequency'].sum() / datamart.shape[0]\n\n# Calculate the retention rate\nretention_rate = datamart[datamart['Frequency'] > 1].shape[0] / datamart.shape[0]\n\n# Calculate the churn rate\nchurn_rate = 1 - retention_rate\n\n# Calculate the profit margin\ndatamart['ProfitMargin'] = datamart['MonetaryValue'] * 0.05\n\n# Calculate the CLV\ndatamart['CLV'] = (datamart['AverageOrderValue'] * purchase_frequency) / churn_rate\ndatamart['CLV'] = datamart['CLV'] * datamart['ProfitMargin']\n\ndatamart.head()",
      "outputs": []
    }
  ]
}